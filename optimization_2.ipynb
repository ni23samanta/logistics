{
 "cells": [
  {
   "cell_type": "code",
   "execution_count": 1,
   "id": "28916f31-2723-4a5a-9b82-4f22a4af8f9a",
   "metadata": {},
   "outputs": [],
   "source": [
    "import pulp as pl\n",
    "import numpy as np\n",
    "import pandas as pd"
   ]
  },
  {
   "cell_type": "code",
   "execution_count": 2,
   "id": "3c9bb33e-6a60-4634-82c4-13a48a3a9b58",
   "metadata": {},
   "outputs": [],
   "source": [
    "df_distance = pd.read_csv(\"D:distance_matrix.csv\", index_col=0)"
   ]
  },
  {
   "cell_type": "code",
   "execution_count": 3,
   "id": "eb443329-72ab-4826-b498-88eaaf03ff0e",
   "metadata": {},
   "outputs": [],
   "source": [
    "distance_matrix = df_distance.to_numpy()"
   ]
  },
  {
   "cell_type": "code",
   "execution_count": 4,
   "id": "43e703ee-9ff2-4dde-8ee9-b4b39348846b",
   "metadata": {},
   "outputs": [],
   "source": [
    "demands =  [0, 1, 1, 2, 4, 2, 4, 8, 8, 1, 2, 1, 2, 4, 4, 8, 8]\n",
    "\n",
    "# Vehicle capacity\n",
    "vehicle_capacity = 15\n",
    "num_vehicles = 4\n",
    "num_locations = len(demands)\n",
    "\n",
    "# Depot index\n",
    "depot = 0"
   ]
  },
  {
   "cell_type": "code",
   "execution_count": 6,
   "id": "b78de590-983e-483d-b534-ee5fa8dde748",
   "metadata": {},
   "outputs": [],
   "source": [
    "model = pl.LpProblem(\"Vehicle_Routing_Problem\", pl.LpMinimize)\n",
    "\n",
    "# Create the decision variables\n",
    "x = pl.LpVariable.dicts(\"x\", \n",
    "                        [(i, j, k) for i in range(num_locations) \n",
    "                                   for j in range(num_locations) \n",
    "                                   for k in range(num_vehicles)], \n",
    "                        cat=pl.LpBinary)\n",
    "\n",
    "# Variable for load carried by each vehicle\n",
    "load = pl.LpVariable.dicts(\"load\", \n",
    "                           [(j, k) for j in range(num_locations) \n",
    "                                   for k in range(num_vehicles)], \n",
    "                           lowBound=0, cat=pl.LpInteger)\n"
   ]
  },
  {
   "cell_type": "code",
   "execution_count": 7,
   "id": "9d0840dc-e421-4c21-8b46-ab2e4d4b69dd",
   "metadata": {},
   "outputs": [],
   "source": [
    "# Minimize the total distance\n",
    "model += pl.lpSum(\n",
    "    distance_matrix[i][j] * x[i, j, k]\n",
    "    for i in range(num_locations)\n",
    "    for j in range(num_locations)\n",
    "    for k in range(num_vehicles)\n",
    ")"
   ]
  },
  {
   "cell_type": "code",
   "execution_count": 8,
   "id": "cd9e7a9f-4fcb-4255-82a0-11289e910b72",
   "metadata": {},
   "outputs": [],
   "source": [
    "for j in range(1, num_locations):  # Skip depot\n",
    "    model += pl.lpSum(x[i, j, k] for i in range(num_locations) for k in range(num_vehicles)) == 1"
   ]
  },
  {
   "cell_type": "code",
   "execution_count": 9,
   "id": "92668d95-3512-49cf-9c2e-1b7b5a6d279f",
   "metadata": {},
   "outputs": [],
   "source": [
    "for k in range(num_vehicles):\n",
    "    model += pl.lpSum(x[depot, j, k] for j in range(1, num_locations)) == 1  # Start at depot\n",
    "    model += pl.lpSum(x[j, depot, k] for j in range(1, num_locations)) == 1  # Return to depot"
   ]
  },
  {
   "cell_type": "code",
   "execution_count": 10,
   "id": "7a479809-be7e-407a-b766-92da7025e8a4",
   "metadata": {},
   "outputs": [],
   "source": [
    "for k in range(num_vehicles):\n",
    "    for j in range(1, num_locations):\n",
    "        model += load[j, k] <= vehicle_capacity\n",
    "\n",
    "# Ensure load consistency when a vehicle moves from node i to node j\n",
    "for k in range(num_vehicles):\n",
    "    for i in range(num_locations):\n",
    "        for j in range(1, num_locations):\n",
    "            if i != j:\n",
    "                model += load[j, k] >= load[i, k] + demands[j] - (1 - x[i, j, k]) * vehicle_capacity\n"
   ]
  },
  {
   "cell_type": "code",
   "execution_count": 11,
   "id": "b034ace1-8c83-4763-83d3-f32ddb431f47",
   "metadata": {},
   "outputs": [],
   "source": [
    "for k in range(num_vehicles):\n",
    "    for i in range(num_locations):\n",
    "        model += x[i, i, k] == 0"
   ]
  },
  {
   "cell_type": "code",
   "execution_count": 12,
   "id": "8b90edd2-6df9-4c02-9894-742d43dd1126",
   "metadata": {},
   "outputs": [
    {
     "name": "stdout",
     "output_type": "stream",
     "text": [
      "\n",
      "Optimal Solution Found!\n",
      "\n"
     ]
    }
   ],
   "source": [
    "# Solve the VRP\n",
    "model.solve()\n",
    "\n",
    "# Check the solution status\n",
    "if pl.LpStatus[model.status] == 'Optimal':\n",
    "    print(\"\\nOptimal Solution Found!\\n\")\n",
    "else:\n",
    "    print(\"\\nNo Optimal Solution Found\\n\")"
   ]
  },
  {
   "cell_type": "code",
   "execution_count": 13,
   "id": "3f64f117-b870-4546-85df-5e060d5c9b9b",
   "metadata": {},
   "outputs": [
    {
     "name": "stdout",
     "output_type": "stream",
     "text": [
      "\n",
      "Route for Vehicle 1:\n",
      "Route: [9, 0]\n",
      "Distance: 388 meters\n",
      "\n",
      "Route for Vehicle 2:\n",
      "Route: [7]\n",
      "Distance: 194 meters\n",
      "\n",
      "Route for Vehicle 3:\n",
      "Route: [5]\n",
      "Distance: 274 meters\n",
      "\n",
      "Route for Vehicle 4:\n",
      "Route: [8]\n",
      "Distance: 308 meters\n",
      "\n",
      "Total Distance: 1164 meters\n"
     ]
    }
   ],
   "source": [
    "# Display the route for each vehicle\n",
    "total_distance = 0\n",
    "\n",
    "for k in range(num_vehicles):\n",
    "    print(f\"\\nRoute for Vehicle {k + 1}:\")\n",
    "    \n",
    "    route = []\n",
    "    route_distance = 0\n",
    "    current_location = depot\n",
    "\n",
    "    # Track visited nodes to avoid infinite loops\n",
    "    visited = set()\n",
    "\n",
    "    while True:\n",
    "        next_location = None\n",
    "\n",
    "        # Iterate over all possible destinations\n",
    "        for j in range(num_locations):\n",
    "            if current_location != j and pl.value(x[current_location, j, k]) == 1:\n",
    "                route.append(j)\n",
    "                route_distance += distance_matrix[current_location][j]\n",
    "                visited.add(current_location)\n",
    "                current_location = j\n",
    "                next_location = j\n",
    "                break\n",
    "\n",
    "        # Check if the vehicle returns to the depot or there are no further moves\n",
    "        if next_location is None or current_location == depot or len(visited) == num_locations - 1:\n",
    "            break\n",
    "\n",
    "    total_distance += route_distance\n",
    "\n",
    "    # Handle vehicles with no assigned routes\n",
    "    if len(route) == 0:\n",
    "        print(\"No route assigned.\")\n",
    "    else:\n",
    "        print(f\"Route: {route}\")\n",
    "        print(f\"Distance: {route_distance} meters\")\n",
    "\n",
    "print(f\"\\nTotal Distance: {total_distance} meters\")\n"
   ]
  },
  {
   "cell_type": "code",
   "execution_count": null,
   "id": "480afc87-3f3d-48c5-819a-f139090be9c0",
   "metadata": {},
   "outputs": [],
   "source": []
  }
 ],
 "metadata": {
  "kernelspec": {
   "display_name": "Python 3 (ipykernel)",
   "language": "python",
   "name": "python3"
  },
  "language_info": {
   "codemirror_mode": {
    "name": "ipython",
    "version": 3
   },
   "file_extension": ".py",
   "mimetype": "text/x-python",
   "name": "python",
   "nbconvert_exporter": "python",
   "pygments_lexer": "ipython3",
   "version": "3.11.0rc2"
  }
 },
 "nbformat": 4,
 "nbformat_minor": 5
}
