{
 "cells": [
  {
   "cell_type": "markdown",
   "id": "bde421c7-0c98-4bd0-9dba-0e16e910620e",
   "metadata": {},
   "source": [
    "# To create an LP model for shipment optimization:\n",
    "\n",
    "Goal: Minimize the total transportation cost.\n",
    "\n",
    "Objective Function: 𝑍=∑(cost per unit×shipment quantity)\n",
    "\n",
    "Constraints:\n",
    "\n",
    "Capacity constraint: Shipment quantity cannot exceed warehouse capacity.\n",
    "\n",
    "Demand constraint: Shipment should meet the customer demand.\n",
    "\n",
    "Non-negativity: The shipment quantity cannot be negative.\n"
   ]
  },
  {
   "cell_type": "code",
   "execution_count": null,
   "id": "6e813920-06bc-4e02-a96d-aa0a35dfe070",
   "metadata": {},
   "outputs": [],
   "source": [
    "# Import necessary libraries\n",
    "import pandas as pd\n",
    "from scipy.optimize import linprog\n",
    "\n",
    "# Load the Excel file\n",
    "file_path = \"Supply chain logisitcs problem.xlsx\"\n",
    "xls = pd.ExcelFile(file_path)\n",
    "\n",
    "# Load the relevant sheets into DataFrames\n",
    "order_list = xls.parse('OrderList')\n",
    "freight_rates = xls.parse('FreightRates')\n",
    "wh_capacities = xls.parse('WhCapacities')\n",
    "wh_costs = xls.parse('WhCosts')\n",
    "\n",
    "# ---- DATA PREPARATION ----\n",
    "\n",
    "# Merge OrderList with FreightRates to get the cost details\n",
    "merged_df = order_list.merge(freight_rates, \n",
    "                             left_on=['Carrier', 'Origin Port', 'Destination Port'],\n",
    "                             right_on=['Carrier', 'orig_port_cd', 'dest_port_cd'],\n",
    "                             how='left')\n",
    "\n",
    "# Merge with Warehouse Costs\n",
    "merged_df = merged_df.merge(wh_costs, left_on='Plant Code', right_on='WH', how='left')\n",
    "\n",
    "# Merge with Warehouse Capacities\n",
    "merged_df = merged_df.merge(wh_capacities, left_on='Plant Code', right_on='Plant ID', how='left')\n",
    "\n",
    "# Filter necessary columns\n",
    "data = merged_df[['Order ID', 'Unit quantity', 'Cost/unit', 'Daily Capacity']].dropna()\n",
    "\n",
    "# ---- LP MODEL SETUP ----\n",
    "\n",
    "# Define the objective function coefficients (cost per shipment)\n",
    "c = data['Cost/unit'].values\n",
    "\n",
    "# Constraints\n",
    "A = []  # Coefficient matrix\n",
    "b = []  # Capacity constraints\n",
    "\n",
    "# Warehouse capacity constraint\n",
    "for _, row in data.iterrows():\n",
    "    A.append([1 if i == _ else 0 for i in range(len(data))])\n",
    "    b.append(row['Daily Capacity'])\n",
    "\n",
    "# Bounds for shipment quantity (0 <= x <= demand)\n",
    "bounds = [(0, row['Unit quantity']) for _, row in data.iterrows()]\n",
    "\n",
    "# Solve the LP problem\n",
    "result = linprog(c, A_ub=A, b_ub=b, bounds=bounds, method='highs')\n",
    "\n",
    "# Display the solution\n",
    "print(\"Optimal Shipment Quantities:\")\n",
    "for i, quantity in enumerate(result.x):\n",
    "    print(f\"Order {data['Order ID'].iloc[i]}: {quantity:.2f} units\")\n",
    "\n",
    "print(\"\\nMinimum Cost:\", result.fun)\n"
   ]
  },
  {
   "cell_type": "code",
   "execution_count": 2,
   "id": "7c0d112f-6aa5-4bfe-9249-3029ede602fb",
   "metadata": {},
   "outputs": [],
   "source": [
    "# Import necessary libraries\n",
    "import pandas as pd\n",
    "from scipy.optimize import linprog"
   ]
  },
  {
   "cell_type": "code",
   "execution_count": 3,
   "id": "91e8a2be-127f-4f4f-8203-74c0887d3a03",
   "metadata": {},
   "outputs": [],
   "source": [
    "# Load the Excel file\n",
    "file_path = \"C:/Users/user/Downloads/Supply chain logisitcs problem.xlsx\"\n",
    "xls = pd.ExcelFile(file_path)"
   ]
  },
  {
   "cell_type": "code",
   "execution_count": 4,
   "id": "d1505c6d-559c-4ddb-8a70-20a2b53853d5",
   "metadata": {},
   "outputs": [],
   "source": [
    "# Load the relevant sheets into DataFrames\n",
    "order_list = xls.parse('OrderList')\n",
    "freight_rates = xls.parse('FreightRates')\n",
    "wh_capacities = xls.parse('WhCapacities')\n",
    "wh_costs = xls.parse('WhCosts')"
   ]
  },
  {
   "cell_type": "code",
   "execution_count": 12,
   "id": "30abe93a-9050-4ed8-b766-322fde3e43d2",
   "metadata": {},
   "outputs": [],
   "source": [
    "# Merge OrderList with FreightRates to get the cost details\n",
    "merged_df = order_list.merge(freight_rates, \n",
    "                             left_on=['Carrier', 'Origin Port', 'Destination Port'],\n",
    "                             right_on=['Carrier', 'orig_port_cd', 'dest_port_cd'],\n",
    "                             how='left')"
   ]
  },
  {
   "cell_type": "code",
   "execution_count": null,
   "id": "8b1f935f-fecb-43f8-b73b-0207b5b847f5",
   "metadata": {},
   "outputs": [],
   "source": []
  }
 ],
 "metadata": {
  "kernelspec": {
   "display_name": "Python 3 (ipykernel)",
   "language": "python",
   "name": "python3"
  },
  "language_info": {
   "codemirror_mode": {
    "name": "ipython",
    "version": 3
   },
   "file_extension": ".py",
   "mimetype": "text/x-python",
   "name": "python",
   "nbconvert_exporter": "python",
   "pygments_lexer": "ipython3",
   "version": "3.11.0rc2"
  }
 },
 "nbformat": 4,
 "nbformat_minor": 5
}
