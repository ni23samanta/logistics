{
 "cells": [
  {
   "cell_type": "code",
   "execution_count": 1,
   "id": "caaf38be-7d3b-4800-8a94-a92870f76ae3",
   "metadata": {},
   "outputs": [
    {
     "name": "stdout",
     "output_type": "stream",
     "text": [
      "Requirement already satisfied: ortools in c:\\users\\user\\appdata\\local\\programs\\python\\python311\\lib\\site-packages (9.12.4544)\n",
      "Requirement already satisfied: absl-py>=2.0.0 in c:\\users\\user\\appdata\\local\\programs\\python\\python311\\lib\\site-packages (from ortools) (2.2.1)\n",
      "Requirement already satisfied: numpy>=1.13.3 in c:\\users\\user\\appdata\\local\\programs\\python\\python311\\lib\\site-packages (from ortools) (2.2.3)\n",
      "Requirement already satisfied: pandas>=2.0.0 in c:\\users\\user\\appdata\\local\\programs\\python\\python311\\lib\\site-packages (from ortools) (2.2.3)\n",
      "Requirement already satisfied: protobuf<5.30,>=5.29.3 in c:\\users\\user\\appdata\\local\\programs\\python\\python311\\lib\\site-packages (from ortools) (5.29.4)\n",
      "Requirement already satisfied: immutabledict>=3.0.0 in c:\\users\\user\\appdata\\local\\programs\\python\\python311\\lib\\site-packages (from ortools) (4.2.1)\n",
      "Requirement already satisfied: python-dateutil>=2.8.2 in c:\\users\\user\\appdata\\local\\programs\\python\\python311\\lib\\site-packages (from pandas>=2.0.0->ortools) (2.9.0.post0)\n",
      "Requirement already satisfied: pytz>=2020.1 in c:\\users\\user\\appdata\\local\\programs\\python\\python311\\lib\\site-packages (from pandas>=2.0.0->ortools) (2025.1)\n",
      "Requirement already satisfied: tzdata>=2022.7 in c:\\users\\user\\appdata\\local\\programs\\python\\python311\\lib\\site-packages (from pandas>=2.0.0->ortools) (2025.1)\n",
      "Requirement already satisfied: six>=1.5 in c:\\users\\user\\appdata\\local\\programs\\python\\python311\\lib\\site-packages (from python-dateutil>=2.8.2->pandas>=2.0.0->ortools) (1.17.0)\n",
      "Note: you may need to restart the kernel to use updated packages.\n"
     ]
    }
   ],
   "source": [
    "pip install ortools"
   ]
  },
  {
   "cell_type": "code",
   "execution_count": 2,
   "id": "b71befed-93e9-47ae-8ffa-b2ede9496db7",
   "metadata": {},
   "outputs": [
    {
     "name": "stdout",
     "output_type": "stream",
     "text": [
      "load C:\\Users\\user\\AppData\\Local\\Programs\\Python\\Python311\\Lib\\site-packages\\ortools\\.libs\\zlib1.dll...\n",
      "load C:\\Users\\user\\AppData\\Local\\Programs\\Python\\Python311\\Lib\\site-packages\\ortools\\.libs\\abseil_dll.dll...\n",
      "load C:\\Users\\user\\AppData\\Local\\Programs\\Python\\Python311\\Lib\\site-packages\\ortools\\.libs\\utf8_validity.dll...\n",
      "load C:\\Users\\user\\AppData\\Local\\Programs\\Python\\Python311\\Lib\\site-packages\\ortools\\.libs\\re2.dll...\n",
      "load C:\\Users\\user\\AppData\\Local\\Programs\\Python\\Python311\\Lib\\site-packages\\ortools\\.libs\\libprotobuf.dll...\n",
      "load C:\\Users\\user\\AppData\\Local\\Programs\\Python\\Python311\\Lib\\site-packages\\ortools\\.libs\\highs.dll...\n",
      "load C:\\Users\\user\\AppData\\Local\\Programs\\Python\\Python311\\Lib\\site-packages\\ortools\\.libs\\ortools.dll...\n"
     ]
    }
   ],
   "source": [
    "from ortools.constraint_solver import routing_enums_pb2\n",
    "from ortools.constraint_solver import pywrapcp\n",
    "import pandas as pd\n",
    "import numpy as np"
   ]
  },
  {
   "cell_type": "code",
   "execution_count": 3,
   "id": "305c1db3-d654-41ea-97d1-aa1b0f4576d5",
   "metadata": {},
   "outputs": [],
   "source": [
    "df_distance = pd.read_csv(\"D:distance_matrix.csv\", index_col=0)"
   ]
  },
  {
   "cell_type": "code",
   "execution_count": 4,
   "id": "59b8d5bb-d5ea-4461-863d-ac2d8e28e8da",
   "metadata": {},
   "outputs": [],
   "source": [
    "distance_matrix = df_distance.to_numpy()"
   ]
  },
  {
   "cell_type": "code",
   "execution_count": 5,
   "id": "21408a93-3a1b-4f68-aba6-474e1e5d2ebc",
   "metadata": {},
   "outputs": [],
   "source": [
    "data = {}"
   ]
  },
  {
   "cell_type": "code",
   "execution_count": 6,
   "id": "691e2715-77cf-4580-8b2a-57a4952dedb2",
   "metadata": {},
   "outputs": [
    {
     "name": "stdout",
     "output_type": "stream",
     "text": [
      "16 destinations\n"
     ]
    }
   ],
   "source": [
    "data['distance_matrix'] = distance_matrix\n",
    "print(\"{:,} destinations\".format(len(data['distance_matrix'][0]) - 1))"
   ]
  },
  {
   "cell_type": "code",
   "execution_count": 7,
   "id": "28766968-7781-4766-b7f8-9f737dbe5a3a",
   "metadata": {},
   "outputs": [],
   "source": [
    "data['demands'] = [0, 1, 1, 2, 4, 2, 4, 8, 8, 1, 2, 1, 2, 4, 4, 8, 8]"
   ]
  },
  {
   "cell_type": "code",
   "execution_count": 8,
   "id": "e7115e8c-9015-4096-81e6-104021d881c9",
   "metadata": {},
   "outputs": [
    {
     "data": {
      "text/plain": [
       "{'distance_matrix': array([[   0,  548,  776,  696,  582,  274,  502,  194,  308,  194,  536,\n",
       "          502,  388,  354,  468,  776,  662],\n",
       "        [ 548,    0,  684,  308,  194,  502,  730,  354,  696,  742, 1084,\n",
       "          594,  480,  674, 1016,  868, 1210],\n",
       "        [ 776,  684,    0,  992,  878,  502,  274,  810,  468,  742,  400,\n",
       "         1278, 1164, 1130,  788, 1552,  754],\n",
       "        [ 696,  308,  992,    0,  114,  650,  878,  502,  844,  890, 1232,\n",
       "          514,  628,  822, 1164,  560, 1358],\n",
       "        [ 582,  194,  878,  114,    0,  536,  764,  388,  730,  776, 1118,\n",
       "          400,  514,  708, 1050,  674, 1244],\n",
       "        [ 274,  502,  502,  650,  536,    0,  228,  308,  194,  240,  582,\n",
       "          776,  662,  628,  514, 1050,  708],\n",
       "        [ 502,  730,  274,  878,  764,  228,    0,  536,  194,  468,  354,\n",
       "         1004,  890,  856,  514, 1278,  480],\n",
       "        [ 194,  354,  810,  502,  388,  308,  536,    0,  342,  388,  730,\n",
       "          468,  354,  320,  662,  742,  856],\n",
       "        [ 308,  696,  468,  844,  730,  194,  194,  342,    0,  274,  388,\n",
       "          810,  696,  662,  320, 1084,  514],\n",
       "        [ 194,  742,  742,  890,  776,  240,  468,  388,  274,    0,  342,\n",
       "          536,  422,  388,  274,  810,  468],\n",
       "        [ 536, 1084,  400, 1232, 1118,  582,  354,  730,  388,  342,    0,\n",
       "          878,  764,  730,  388, 1152,  354],\n",
       "        [ 502,  594, 1278,  514,  400,  776, 1004,  468,  810,  536,  878,\n",
       "            0,  114,  308,  650,  274,  844],\n",
       "        [ 388,  480, 1164,  628,  514,  662,  890,  354,  696,  422,  764,\n",
       "          114,    0,  194,  536,  388,  730],\n",
       "        [ 354,  674, 1130,  822,  708,  628,  856,  320,  662,  388,  730,\n",
       "          308,  194,    0,  342,  422,  536],\n",
       "        [ 468, 1016,  788, 1164, 1050,  514,  514,  662,  320,  274,  388,\n",
       "          650,  536,  342,    0,  764,  194],\n",
       "        [ 776,  868, 1552,  560,  674, 1050, 1278,  742, 1084,  810, 1152,\n",
       "          274,  388,  422,  764,    0,  798],\n",
       "        [ 662, 1210,  754, 1358, 1244,  708,  480,  856,  514,  468,  354,\n",
       "          844,  730,  536,  194,  798,    0]]),\n",
       " 'demands': [0, 1, 1, 2, 4, 2, 4, 8, 8, 1, 2, 1, 2, 4, 4, 8, 8]}"
      ]
     },
     "execution_count": 8,
     "metadata": {},
     "output_type": "execute_result"
    }
   ],
   "source": [
    "data"
   ]
  },
  {
   "cell_type": "code",
   "execution_count": 9,
   "id": "1290daae-4a87-4064-b34e-dbdfd2c33fc2",
   "metadata": {},
   "outputs": [],
   "source": [
    "data['vehicle_capacities'] = [15, 15, 15, 15]"
   ]
  },
  {
   "cell_type": "code",
   "execution_count": 10,
   "id": "66a7d804-6e73-42f0-b2eb-fefc0e3f9a68",
   "metadata": {},
   "outputs": [
    {
     "data": {
      "text/plain": [
       "{'distance_matrix': array([[   0,  548,  776,  696,  582,  274,  502,  194,  308,  194,  536,\n",
       "          502,  388,  354,  468,  776,  662],\n",
       "        [ 548,    0,  684,  308,  194,  502,  730,  354,  696,  742, 1084,\n",
       "          594,  480,  674, 1016,  868, 1210],\n",
       "        [ 776,  684,    0,  992,  878,  502,  274,  810,  468,  742,  400,\n",
       "         1278, 1164, 1130,  788, 1552,  754],\n",
       "        [ 696,  308,  992,    0,  114,  650,  878,  502,  844,  890, 1232,\n",
       "          514,  628,  822, 1164,  560, 1358],\n",
       "        [ 582,  194,  878,  114,    0,  536,  764,  388,  730,  776, 1118,\n",
       "          400,  514,  708, 1050,  674, 1244],\n",
       "        [ 274,  502,  502,  650,  536,    0,  228,  308,  194,  240,  582,\n",
       "          776,  662,  628,  514, 1050,  708],\n",
       "        [ 502,  730,  274,  878,  764,  228,    0,  536,  194,  468,  354,\n",
       "         1004,  890,  856,  514, 1278,  480],\n",
       "        [ 194,  354,  810,  502,  388,  308,  536,    0,  342,  388,  730,\n",
       "          468,  354,  320,  662,  742,  856],\n",
       "        [ 308,  696,  468,  844,  730,  194,  194,  342,    0,  274,  388,\n",
       "          810,  696,  662,  320, 1084,  514],\n",
       "        [ 194,  742,  742,  890,  776,  240,  468,  388,  274,    0,  342,\n",
       "          536,  422,  388,  274,  810,  468],\n",
       "        [ 536, 1084,  400, 1232, 1118,  582,  354,  730,  388,  342,    0,\n",
       "          878,  764,  730,  388, 1152,  354],\n",
       "        [ 502,  594, 1278,  514,  400,  776, 1004,  468,  810,  536,  878,\n",
       "            0,  114,  308,  650,  274,  844],\n",
       "        [ 388,  480, 1164,  628,  514,  662,  890,  354,  696,  422,  764,\n",
       "          114,    0,  194,  536,  388,  730],\n",
       "        [ 354,  674, 1130,  822,  708,  628,  856,  320,  662,  388,  730,\n",
       "          308,  194,    0,  342,  422,  536],\n",
       "        [ 468, 1016,  788, 1164, 1050,  514,  514,  662,  320,  274,  388,\n",
       "          650,  536,  342,    0,  764,  194],\n",
       "        [ 776,  868, 1552,  560,  674, 1050, 1278,  742, 1084,  810, 1152,\n",
       "          274,  388,  422,  764,    0,  798],\n",
       "        [ 662, 1210,  754, 1358, 1244,  708,  480,  856,  514,  468,  354,\n",
       "          844,  730,  536,  194,  798,    0]]),\n",
       " 'demands': [0, 1, 1, 2, 4, 2, 4, 8, 8, 1, 2, 1, 2, 4, 4, 8, 8],\n",
       " 'vehicle_capacities': [15, 15, 15, 15]}"
      ]
     },
     "execution_count": 10,
     "metadata": {},
     "output_type": "execute_result"
    }
   ],
   "source": [
    "data"
   ]
  },
  {
   "cell_type": "code",
   "execution_count": 11,
   "id": "03547fda-b002-4b56-8dfb-899329c1ec28",
   "metadata": {},
   "outputs": [],
   "source": [
    "data['num_vehicles'] = 4"
   ]
  },
  {
   "cell_type": "code",
   "execution_count": 12,
   "id": "4fd9f4d0-83b9-4cb1-a7e6-bb65091ee1e9",
   "metadata": {},
   "outputs": [],
   "source": [
    "data['depot'] = 0"
   ]
  },
  {
   "cell_type": "code",
   "execution_count": 13,
   "id": "32ee3c27-413a-4f79-be29-84140fa74894",
   "metadata": {},
   "outputs": [
    {
     "data": {
      "text/plain": [
       "{'distance_matrix': array([[   0,  548,  776,  696,  582,  274,  502,  194,  308,  194,  536,\n",
       "          502,  388,  354,  468,  776,  662],\n",
       "        [ 548,    0,  684,  308,  194,  502,  730,  354,  696,  742, 1084,\n",
       "          594,  480,  674, 1016,  868, 1210],\n",
       "        [ 776,  684,    0,  992,  878,  502,  274,  810,  468,  742,  400,\n",
       "         1278, 1164, 1130,  788, 1552,  754],\n",
       "        [ 696,  308,  992,    0,  114,  650,  878,  502,  844,  890, 1232,\n",
       "          514,  628,  822, 1164,  560, 1358],\n",
       "        [ 582,  194,  878,  114,    0,  536,  764,  388,  730,  776, 1118,\n",
       "          400,  514,  708, 1050,  674, 1244],\n",
       "        [ 274,  502,  502,  650,  536,    0,  228,  308,  194,  240,  582,\n",
       "          776,  662,  628,  514, 1050,  708],\n",
       "        [ 502,  730,  274,  878,  764,  228,    0,  536,  194,  468,  354,\n",
       "         1004,  890,  856,  514, 1278,  480],\n",
       "        [ 194,  354,  810,  502,  388,  308,  536,    0,  342,  388,  730,\n",
       "          468,  354,  320,  662,  742,  856],\n",
       "        [ 308,  696,  468,  844,  730,  194,  194,  342,    0,  274,  388,\n",
       "          810,  696,  662,  320, 1084,  514],\n",
       "        [ 194,  742,  742,  890,  776,  240,  468,  388,  274,    0,  342,\n",
       "          536,  422,  388,  274,  810,  468],\n",
       "        [ 536, 1084,  400, 1232, 1118,  582,  354,  730,  388,  342,    0,\n",
       "          878,  764,  730,  388, 1152,  354],\n",
       "        [ 502,  594, 1278,  514,  400,  776, 1004,  468,  810,  536,  878,\n",
       "            0,  114,  308,  650,  274,  844],\n",
       "        [ 388,  480, 1164,  628,  514,  662,  890,  354,  696,  422,  764,\n",
       "          114,    0,  194,  536,  388,  730],\n",
       "        [ 354,  674, 1130,  822,  708,  628,  856,  320,  662,  388,  730,\n",
       "          308,  194,    0,  342,  422,  536],\n",
       "        [ 468, 1016,  788, 1164, 1050,  514,  514,  662,  320,  274,  388,\n",
       "          650,  536,  342,    0,  764,  194],\n",
       "        [ 776,  868, 1552,  560,  674, 1050, 1278,  742, 1084,  810, 1152,\n",
       "          274,  388,  422,  764,    0,  798],\n",
       "        [ 662, 1210,  754, 1358, 1244,  708,  480,  856,  514,  468,  354,\n",
       "          844,  730,  536,  194,  798,    0]]),\n",
       " 'demands': [0, 1, 1, 2, 4, 2, 4, 8, 8, 1, 2, 1, 2, 4, 4, 8, 8],\n",
       " 'vehicle_capacities': [15, 15, 15, 15],\n",
       " 'num_vehicles': 4,\n",
       " 'depot': 0}"
      ]
     },
     "execution_count": 13,
     "metadata": {},
     "output_type": "execute_result"
    }
   ],
   "source": [
    "data"
   ]
  },
  {
   "cell_type": "code",
   "execution_count": 14,
   "id": "524ebae8-2e81-49f4-aa6f-351ec0478d8d",
   "metadata": {},
   "outputs": [],
   "source": [
    "# Calculate Distance between two nodes\n",
    "def distance_callback(from_index, to_index):\n",
    "    \"\"\"Returns the distance between the two nodes.\"\"\"\n",
    "    # Convert from routing variable Index to distance matrix NodeIndex.\n",
    "    from_node = manager.IndexToNode(from_index)\n",
    "    to_node = manager.IndexToNode(to_index)\n",
    "    return data['distance_matrix'][from_node][to_node]"
   ]
  },
  {
   "cell_type": "code",
   "execution_count": 15,
   "id": "ea63a086-bea7-4dfe-bb7d-185964e9f58c",
   "metadata": {},
   "outputs": [],
   "source": [
    "# Get the order quantity of each node (location)\n",
    "def demand_callback(from_index):\n",
    "    \"\"\"Returns the demand of the node.\"\"\"\n",
    "    # Convert from routing variable Index to demands NodeIndex.\n",
    "    from_node = manager.IndexToNode(from_index)\n",
    "    return data['demands'][from_node]"
   ]
  },
  {
   "cell_type": "code",
   "execution_count": 16,
   "id": "d1b5b3c7-15aa-4df1-b168-8665b3b57276",
   "metadata": {},
   "outputs": [],
   "source": [
    "# Create the routing index manager.\n",
    "manager = pywrapcp.RoutingIndexManager(len(data['distance_matrix']),\n",
    "                                       data['num_vehicles'], data['depot'])\n"
   ]
  },
  {
   "cell_type": "code",
   "execution_count": 17,
   "id": "793d9522-cbb4-4592-aee8-6bd07d3dfb7d",
   "metadata": {},
   "outputs": [],
   "source": [
    "# Create Routing Model\n",
    "routing = pywrapcp.RoutingModel(manager)"
   ]
  },
  {
   "cell_type": "code",
   "execution_count": 18,
   "id": "7a3192f7-578b-424e-ab64-9aabc722bd09",
   "metadata": {},
   "outputs": [],
   "source": [
    "# Create and register a transit callback.\n",
    "transit_callback_index = routing.RegisterTransitCallback(distance_callback)"
   ]
  },
  {
   "cell_type": "code",
   "execution_count": 19,
   "id": "ef389dfb-4226-4e16-97be-b6234206c3b4",
   "metadata": {},
   "outputs": [],
   "source": [
    "# Define cost of each arc.\n",
    "routing.SetArcCostEvaluatorOfAllVehicles(transit_callback_index)"
   ]
  },
  {
   "cell_type": "code",
   "execution_count": 20,
   "id": "7d8b4ebc-532f-45d4-98d8-8ca0be03167c",
   "metadata": {},
   "outputs": [
    {
     "data": {
      "text/plain": [
       "True"
      ]
     },
     "execution_count": 20,
     "metadata": {},
     "output_type": "execute_result"
    }
   ],
   "source": [
    "# Add Capacity constraint.\n",
    "demand_callback_index = routing.RegisterUnaryTransitCallback(\n",
    "    demand_callback)\n",
    "routing.AddDimensionWithVehicleCapacity(demand_callback_index,\n",
    "    0,  # null capacity slack\n",
    "    data['vehicle_capacities'],  # vehicle maximum capacities\n",
    "    True,  # start cumul to zero\n",
    "    'Capacity')"
   ]
  },
  {
   "cell_type": "code",
   "execution_count": 26,
   "id": "012fdca3-bd49-4b08-bec2-82ce860cadb3",
   "metadata": {},
   "outputs": [],
   "source": [
    "# Setting first solution heuristic.\n",
    "search_parameters = pywrapcp.DefaultRoutingSearchParameters()\n",
    "search_parameters.first_solution_strategy = (routing_enums_pb2.FirstSolutionStrategy.PATH_CHEAPEST_ARC)\n",
    "search_parameters.local_search_metaheuristic = (routing_enums_pb2.LocalSearchMetaheuristic.GUIDED_LOCAL_SEARCH)\n",
    "search_parameters.time_limit.FromSeconds(1)"
   ]
  },
  {
   "cell_type": "code",
   "execution_count": 27,
   "id": "7b87ed6b-5a72-4613-ba5a-ae6b808d842d",
   "metadata": {},
   "outputs": [],
   "source": [
    "# Solve the problem.\n",
    "solution = routing.SolveWithParameters(search_parameters)"
   ]
  },
  {
   "cell_type": "code",
   "execution_count": 28,
   "id": "8d690e1a-5bd3-42db-9365-389562453106",
   "metadata": {},
   "outputs": [
    {
     "name": "stdout",
     "output_type": "stream",
     "text": [
      "Route for driver 0:\n",
      " 0 Parcels(0) ->  7 Parcels(8) ->  3 Parcels(10) ->  4 Parcels(14) ->  1 Parcels(15) ->  0 Parcels(15)\n",
      "Distance of the route: 1552 (m)\n",
      "Parcels Delivered: 15 (parcels)\n",
      "\n",
      "Route for driver 1:\n",
      " 0 Parcels(0) ->  14 Parcels(4) ->  16 Parcels(12) ->  10 Parcels(14) ->  9 Parcels(15) ->  0 Parcels(15)\n",
      "Distance of the route: 1552 (m)\n",
      "Parcels Delivered: 15 (parcels)\n",
      "\n",
      "Route for driver 2:\n",
      " 0 Parcels(0) ->  12 Parcels(2) ->  11 Parcels(3) ->  15 Parcels(11) ->  13 Parcels(15) ->  0 Parcels(15)\n",
      "Distance of the route: 1552 (m)\n",
      "Parcels Delivered: 15 (parcels)\n",
      "\n",
      "Route for driver 3:\n",
      " 0 Parcels(0) ->  8 Parcels(8) ->  2 Parcels(9) ->  6 Parcels(13) ->  5 Parcels(15) ->  0 Parcels(15)\n",
      "Distance of the route: 1552 (m)\n",
      "Parcels Delivered: 15 (parcels)\n",
      "\n",
      "Total distance of all routes: 6,208 (m)\n",
      "Parcels Delivered: 60/60\n"
     ]
    }
   ],
   "source": [
    "if solution:\n",
    "    total_distance = 0 \n",
    "    total_load = 0\n",
    "    for vehicle_id in range(data['num_vehicles']):\n",
    "        index = routing.Start(vehicle_id)\n",
    "        plan_output = 'Route for driver {}:\\n'.format(vehicle_id)\n",
    "        route_distance = 0 \n",
    "        route_load = 0\n",
    "        while not routing.IsEnd(index):\n",
    "             node_index = manager.IndexToNode(index)\n",
    "             route_load += data['demands'][node_index]\n",
    "             plan_output += ' {0} Parcels({1}) -> '.format(node_index, route_load)\n",
    "             previous_index = index\n",
    "             index = solution.Value(routing.NextVar(index))\n",
    "             route_distance += routing.GetArcCostForVehicle(previous_index, index, vehicle_id)\n",
    "        plan_output += ' {0} Parcels({1})\\n'.format(manager.IndexToNode(index),route_load)\n",
    "        plan_output += 'Distance of the route: {} (m)\\n'.format(route_distance)\n",
    "        plan_output += 'Parcels Delivered: {} (parcels)\\n'.format(route_load)\n",
    "        print(plan_output)\n",
    "        \n",
    "        total_distance += route_distance\n",
    "        total_load += route_load\n",
    "    print('Total distance of all routes: {:,} (m)'.format(total_distance))\n",
    "    print('Parcels Delivered: {:,}/{:,}'.format(total_load, sum(data['demands'])))\n",
    "else:\n",
    "    print('No Solution')"
   ]
  },
  {
   "cell_type": "code",
   "execution_count": null,
   "id": "40221093-7264-4c2b-839e-e7bbf425f288",
   "metadata": {},
   "outputs": [],
   "source": []
  },
  {
   "cell_type": "code",
   "execution_count": null,
   "id": "acd4d277-53b1-49f4-b7da-f7b97c0bfaee",
   "metadata": {},
   "outputs": [],
   "source": []
  }
 ],
 "metadata": {
  "kernelspec": {
   "display_name": "Python 3 (ipykernel)",
   "language": "python",
   "name": "python3"
  },
  "language_info": {
   "codemirror_mode": {
    "name": "ipython",
    "version": 3
   },
   "file_extension": ".py",
   "mimetype": "text/x-python",
   "name": "python",
   "nbconvert_exporter": "python",
   "pygments_lexer": "ipython3",
   "version": "3.11.0rc2"
  }
 },
 "nbformat": 4,
 "nbformat_minor": 5
}
